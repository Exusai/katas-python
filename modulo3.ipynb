{
 "cells": [
  {
   "cell_type": "code",
   "execution_count": 5,
   "metadata": {},
   "outputs": [
    {
     "name": "stdout",
     "output_type": "stream",
     "text": [
      "Alerta!!! Asteroide entrante!!!\n"
     ]
    }
   ],
   "source": [
    "velAsteroide = 49\n",
    "if velAsteroide > 25: print('Alerta!!! Asteroide entrante!!!')\n",
    "else: print('Todo en orden')"
   ]
  },
  {
   "cell_type": "code",
   "execution_count": 6,
   "metadata": {},
   "outputs": [
    {
     "name": "stdout",
     "output_type": "stream",
     "text": [
      "No hay nada\n"
     ]
    }
   ],
   "source": [
    "velAsteroide = 19\n",
    "if velAsteroide > 20:  #if velAsteroide >= 20: \n",
    "    print('Asteroide en el cielo ')\n",
    "elif velAsteroide == 20:\n",
    "    print('Asteroide en el cielo ')\n",
    "else:\n",
    "    print('No hay nada')"
   ]
  },
  {
   "cell_type": "code",
   "execution_count": 7,
   "metadata": {},
   "outputs": [
    {
     "name": "stdout",
     "output_type": "stream",
     "text": [
      "Asteroide que se verá en el cielo\n"
     ]
    }
   ],
   "source": [
    "velAsteroide = 25\n",
    "asteroideSize = 40\n",
    "if velAsteroide > 25 and asteroideSize > 25:\n",
    "    print('Asteroide muy grande y muy rápido')\n",
    "elif velAsteroide >= 20:\n",
    "    print('Asteroide que se verá en el cielo')\n",
    "elif asteroideSize < 25:\n",
    "    print('No pasa nada')\n",
    "else:\n",
    "    print('No pasa nada')"
   ]
  }
 ],
 "metadata": {
  "interpreter": {
   "hash": "d2edec2eb969a9dfbf380899abf436dd3e786c02e57d83e9add4972c3816dd5a"
  },
  "kernelspec": {
   "display_name": "Python 3.8.3 64-bit",
   "language": "python",
   "name": "python3"
  },
  "language_info": {
   "codemirror_mode": {
    "name": "ipython",
    "version": 3
   },
   "file_extension": ".py",
   "mimetype": "text/x-python",
   "name": "python",
   "nbconvert_exporter": "python",
   "pygments_lexer": "ipython3",
   "version": "3.8.3"
  },
  "orig_nbformat": 4
 },
 "nbformat": 4,
 "nbformat_minor": 2
}

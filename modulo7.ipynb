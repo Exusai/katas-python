{
 "cells": [
  {
   "cell_type": "code",
   "execution_count": 7,
   "metadata": {},
   "outputs": [],
   "source": [
    "nuevoPlaneta = ''\n",
    "planetas = []"
   ]
  },
  {
   "cell_type": "code",
   "execution_count": 8,
   "metadata": {},
   "outputs": [],
   "source": [
    "while nuevoPlaneta != 'done':\n",
    "    if nuevoPlaneta != '': planetas.append(nuevoPlaneta.capitalize())\n",
    "    nuevoPlaneta = input('Introduce tu planeta')"
   ]
  },
  {
   "cell_type": "code",
   "execution_count": 9,
   "metadata": {},
   "outputs": [
    {
     "name": "stdout",
     "output_type": "stream",
     "text": [
      "Nombre del planeta: Mercurio\n",
      "Nombre del planeta: Venus\n",
      "Nombre del planeta: Tierra\n",
      "Nombre del planeta: Marte\n",
      "Nombre del planeta: Reach\n"
     ]
    }
   ],
   "source": [
    "for planet in planetas:\n",
    "    print('Nombre del planeta:', planet)"
   ]
  }
 ],
 "metadata": {
  "interpreter": {
   "hash": "d2edec2eb969a9dfbf380899abf436dd3e786c02e57d83e9add4972c3816dd5a"
  },
  "kernelspec": {
   "display_name": "Python 3.8.3 64-bit",
   "language": "python",
   "name": "python3"
  },
  "language_info": {
   "codemirror_mode": {
    "name": "ipython",
    "version": 3
   },
   "file_extension": ".py",
   "mimetype": "text/x-python",
   "name": "python",
   "nbconvert_exporter": "python",
   "pygments_lexer": "ipython3",
   "version": "3.8.3"
  },
  "orig_nbformat": 4
 },
 "nbformat": 4,
 "nbformat_minor": 2
}

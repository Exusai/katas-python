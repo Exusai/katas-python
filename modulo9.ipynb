{
 "cells": [
  {
   "cell_type": "markdown",
   "metadata": {},
   "source": [
    "### EJ1"
   ]
  },
  {
   "cell_type": "code",
   "execution_count": 9,
   "metadata": {},
   "outputs": [],
   "source": [
    "def reporteDeTanques(tanques):\n",
    "    average = sum(tanques)/len(tanques)\n",
    "    c = 0\n",
    "    tanqueReport = ''\n",
    "    for tanque in tanques:\n",
    "        tanqueReport = tanqueReport +'Tanque ' + str(c+1) + ': ' + str(tanque) + '% \\n '\n",
    "        c += 1\n",
    "    reporte = 'Promedio: ' + str(average) +'% \\n ' + tanqueReport\n",
    "    return reporte"
   ]
  },
  {
   "cell_type": "code",
   "execution_count": 10,
   "metadata": {},
   "outputs": [
    {
     "name": "stdout",
     "output_type": "stream",
     "text": [
      "Promedio: 78.33333333333333% \n",
      " Tanque 1: 80% \n",
      " Tanque 2: 70% \n",
      " Tanque 3: 85% \n",
      " \n"
     ]
    }
   ],
   "source": [
    "print(reporteDeTanques([80, 70, 85]))"
   ]
  },
  {
   "cell_type": "code",
   "execution_count": 11,
   "metadata": {},
   "outputs": [
    {
     "data": {
      "text/plain": [
       "82.0"
      ]
     },
     "execution_count": 11,
     "metadata": {},
     "output_type": "execute_result"
    }
   ],
   "source": [
    "def promedio(valores):\n",
    "    return sum(valores)/len(valores)\n",
    "\n",
    "promedio([80, 85, 81])"
   ]
  },
  {
   "cell_type": "code",
   "execution_count": 12,
   "metadata": {},
   "outputs": [],
   "source": [
    "def reporteDeTanques(tanques):\n",
    "    average = promedio(tanques)\n",
    "    c = 0\n",
    "    tanqueReport = ''\n",
    "    for tanque in tanques:\n",
    "        tanqueReport = tanqueReport +'Tanque ' + str(c+1) + ': ' + str(tanque) + '% \\n '\n",
    "        c += 1\n",
    "    reporte = 'Promedio: ' + str(average) +'% \\n ' + tanqueReport\n",
    "    return reporte"
   ]
  },
  {
   "cell_type": "code",
   "execution_count": 13,
   "metadata": {},
   "outputs": [
    {
     "name": "stdout",
     "output_type": "stream",
     "text": [
      "Promedio: 78.33333333333333% \n",
      " Tanque 1: 80% \n",
      " Tanque 2: 70% \n",
      " Tanque 3: 85% \n",
      " \n"
     ]
    }
   ],
   "source": [
    "print(reporteDeTanques([80, 70, 85]))"
   ]
  },
  {
   "cell_type": "markdown",
   "metadata": {},
   "source": [
    "### EJ2"
   ]
  },
  {
   "cell_type": "code",
   "execution_count": 15,
   "metadata": {},
   "outputs": [
    {
     "name": "stdout",
     "output_type": "stream",
     "text": [
      "\n",
      "    Misión a: Moon\n",
      "    Tiempo de viaje: 65 minutos\n",
      "    Combustible: 500000 galones\n",
      "    \n"
     ]
    }
   ],
   "source": [
    "def reporteDeMision(preLaunchTime, tiempoDeVuelo, destino, tanqueExterno, tanquePrincipal):\n",
    "    texto = f\"\"\"\n",
    "    Misión a: {destino}\n",
    "    Tiempo de viaje: {preLaunchTime + tiempoDeVuelo} minutos\n",
    "    Combustible: {tanqueExterno + tanquePrincipal} galones\n",
    "    \"\"\"\n",
    "    return texto\n",
    "\n",
    "print(reporteDeMision(14, 51, \"Moon\", 200000, 300000))"
   ]
  },
  {
   "cell_type": "code",
   "execution_count": 22,
   "metadata": {},
   "outputs": [
    {
     "name": "stdout",
     "output_type": "stream",
     "text": [
      "\n",
      "    Misión a: Moon\n",
      "    Tiempo de viaje: 76 minutos\n",
      "    Combustible: 500000 galones\n",
      "    Nombre de los tanques: ['main', 'external']\n",
      "    \n"
     ]
    }
   ],
   "source": [
    "def reporteDeMision(destino, *mins, **tanques):\n",
    "    texto = f\"\"\"\n",
    "    Misión a: {destino}\n",
    "    Tiempo de viaje: {sum(mins)} minutos\n",
    "    Combustible: {sum(tanques.values())} galones\n",
    "    Nombre de los tanques: {list(tanques.keys())}\n",
    "    \"\"\"\n",
    "    return texto\n",
    "\n",
    "print(reporteDeMision(\"Moon\", 10, 15, 51, main=300000, external=200000))"
   ]
  },
  {
   "cell_type": "code",
   "execution_count": 33,
   "metadata": {},
   "outputs": [
    {
     "name": "stdout",
     "output_type": "stream",
     "text": [
      "\n",
      "    Misión a: Moon\n",
      "    Tiempo de viaje: 74 minutos\n",
      "    Combustible: 500100 galones\n",
      "    Nombre de los tanques: ['main', 'external', 'reserva']\n",
      "    main tanque --> 300000 galones restantes\n",
      "external tanque --> 200000 galones restantes\n",
      "reserva tanque --> 100 galones restantes\n",
      "\n"
     ]
    }
   ],
   "source": [
    "# Escribe tu nueva función\n",
    "\n",
    "def reporteDeMision(destino, *mins, **tanques):\n",
    "    texto = f\"\"\"\n",
    "    Misión a: {destino}\n",
    "    Tiempo de viaje: {sum(mins)} minutos\n",
    "    Combustible: {sum(tanques.values())} galones\n",
    "    Nombre de los tanques: {list(tanques.keys())}\n",
    "    \"\"\"\n",
    "    for tanque, galones in tanques.items():\n",
    "        texto += f\"{tanque} tanque --> {galones} galones restantes\\n\"\n",
    "    return texto\n",
    "\n",
    "print(reporteDeMision(\"Moon\", 8, 11, 55, main=300000, external=200000, reserva=100))"
   ]
  }
 ],
 "metadata": {
  "interpreter": {
   "hash": "d2edec2eb969a9dfbf380899abf436dd3e786c02e57d83e9add4972c3816dd5a"
  },
  "kernelspec": {
   "display_name": "Python 3.8.3 64-bit",
   "language": "python",
   "name": "python3"
  },
  "language_info": {
   "codemirror_mode": {
    "name": "ipython",
    "version": 3
   },
   "file_extension": ".py",
   "mimetype": "text/x-python",
   "name": "python",
   "nbconvert_exporter": "python",
   "pygments_lexer": "ipython3",
   "version": "3.8.3"
  },
  "orig_nbformat": 4
 },
 "nbformat": 4,
 "nbformat_minor": 2
}
